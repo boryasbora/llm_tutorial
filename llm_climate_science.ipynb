{
 "cells": [
  {
   "cell_type": "code",
   "execution_count": 1,
   "id": "1d489fc4",
   "metadata": {},
   "outputs": [
    {
     "data": {
      "text/plain": [
       "True"
      ]
     },
     "execution_count": 1,
     "metadata": {},
     "output_type": "execute_result"
    }
   ],
   "source": [
    "from langchain_community.vectorstores import Chroma\n",
    "from langchain.prompts import ChatPromptTemplate\n",
    "from langchain.chains import ConversationalRetrievalChain\n",
    "from langchain.schema import Document\n",
    "import json\n",
    "import os\n",
    "from dotenv import load_dotenv\n",
    "load_dotenv()"
   ]
  },
  {
   "cell_type": "markdown",
   "id": "a2e0cc00",
   "metadata": {},
   "source": [
    "### Parcing NOAA's glossary"
   ]
  },
  {
   "cell_type": "code",
   "execution_count": null,
   "id": "a5ee9e36",
   "metadata": {},
   "outputs": [],
   "source": [
    "import sys\n",
    "import string\n",
    "import requests\n",
    "from bs4 import BeautifulSoup\n",
    "import re\n",
    "\n",
    "# A common desktop browser UA to avoid 403\n",
    "BROWSER_HEADERS = {\n",
    "    'User-Agent': (\n",
    "        'Mozilla/5.0 (Windows NT 10.0; Win64; x64) '\n",
    "        'AppleWebKit/537.36 (KHTML, like Gecko) '\n",
    "        'Chrome/115.0.0.0 Safari/537.36'\n",
    "    )\n",
    "}\n",
    "\n",
    "def fetch_html(url):\n",
    "    \"\"\"Fetch page HTML with a browser-like User-Agent.\"\"\"\n",
    "    resp = requests.get(url, headers=BROWSER_HEADERS, timeout=10)\n",
    "    resp.raise_for_status()\n",
    "    return resp.text\n",
    "\n",
    "def parse_glossary_improved(html):\n",
    "    \"\"\"Extract term/definition pairs from NOAA glossary page HTML.\"\"\"\n",
    "    soup = BeautifulSoup(html, 'html.parser')\n",
    "    \n",
    "    # Find the main content area\n",
    "    # The content seems to be in the body after navigation elements\n",
    "    content = soup.find('body')\n",
    "    if not content:\n",
    "        return []\n",
    "    \n",
    "    # Get all text content and process it\n",
    "    text_content = content.get_text()\n",
    "    \n",
    "    # Split by lines and clean up\n",
    "    lines = [line.strip() for line in text_content.split('\\n') if line.strip()]\n",
    "    \n",
    "    entries = []\n",
    "    current_term = None\n",
    "    current_definition = []\n",
    "    \n",
    "    # Process lines to identify terms and definitions\n",
    "    for i, line in enumerate(lines):\n",
    "        # Skip navigation and header content\n",
    "        if any(nav_text in line for nav_text in [\n",
    "            \"Weather Glossary:\", \"Weather Acronyms:\", \"Appendix\", \n",
    "            \"Glossary\", \"Downloads\", \"Acronyms\"\n",
    "        ]):\n",
    "            continue\n",
    "            \n",
    "        # Check if this looks like a term (usually bold/standalone)\n",
    "        # Terms are typically short and followed by definitions\n",
    "        if (len(line) < 100 and  # Terms are usually shorter\n",
    "            not line.endswith('.') and  # Definitions usually end with periods\n",
    "            not line.startswith('The ') and  # Definitions often start with \"The\"\n",
    "            not line.startswith('A ') and   # Definitions often start with \"A\"\n",
    "            not line.startswith('An ') and  # Definitions often start with \"An\"\n",
    "            i + 1 < len(lines) and  # Make sure there's a next line\n",
    "            len(lines[i + 1]) > 20):  # Next line looks like a definition\n",
    "            \n",
    "            # Save previous term if we have one\n",
    "            if current_term and current_definition:\n",
    "                definition_text = ' '.join(current_definition).strip()\n",
    "                if definition_text:\n",
    "                    entries.append({\n",
    "                        'term': current_term,\n",
    "                        'definition': definition_text\n",
    "                    })\n",
    "            \n",
    "            # Start new term\n",
    "            current_term = line\n",
    "            current_definition = []\n",
    "        else:\n",
    "            # This is part of a definition\n",
    "            if current_term:\n",
    "                current_definition.append(line)\n",
    "    \n",
    "    # Don't forget the last term\n",
    "    if current_term and current_definition:\n",
    "        definition_text = ' '.join(current_definition).strip()\n",
    "        if definition_text:\n",
    "            entries.append({\n",
    "                'term': current_term,\n",
    "                'definition': definition_text\n",
    "            })\n",
    "    \n",
    "    return entries\n",
    "\n",
    "def parse_glossary_by_structure(html):\n",
    "    \"\"\"Alternative parsing method looking for specific HTML structure.\"\"\"\n",
    "    soup = BeautifulSoup(html, 'html.parser')\n",
    "    entries = []\n",
    "    \n",
    "    # Try to find all list items or similar structures\n",
    "    # Look for patterns where terms might be defined\n",
    "    \n",
    "    # Find all strong/bold elements (often used for terms)\n",
    "    strong_elements = soup.find_all(['strong', 'b'])\n",
    "    \n",
    "    for strong in strong_elements:\n",
    "        term_text = strong.get_text(strip=True)\n",
    "        if not term_text or len(term_text) > 100:\n",
    "            continue\n",
    "            \n",
    "        # Look for definition text following the term\n",
    "        definition_parts = []\n",
    "        current = strong.next_sibling\n",
    "        \n",
    "        # Collect text until we hit another term or end of section\n",
    "        while current:\n",
    "            if hasattr(current, 'name'):\n",
    "                if current.name in ['strong', 'b']:\n",
    "                    break\n",
    "                if current.name == 'p':\n",
    "                    definition_parts.append(current.get_text(strip=True))\n",
    "                elif current.name in ['li', 'div']:\n",
    "                    text = current.get_text(strip=True)\n",
    "                    if text:\n",
    "                        definition_parts.append(text)\n",
    "            elif hasattr(current, 'strip'):\n",
    "                text = current.strip()\n",
    "                if text and not text.startswith('-'):\n",
    "                    definition_parts.append(text)\n",
    "            \n",
    "            current = current.next_sibling\n",
    "            \n",
    "            # Stop if we've collected enough text\n",
    "            if len(' '.join(definition_parts)) > 500:\n",
    "                break\n",
    "        \n",
    "        definition = ' '.join(definition_parts).strip()\n",
    "        if definition and len(definition) > 10:\n",
    "            entries.append({\n",
    "                'term': term_text,\n",
    "                'definition': definition\n",
    "            })\n",
    "    \n",
    "    return entries\n",
    "\n",
    "def parse_glossary_bullet_points(html):\n",
    "    \"\"\"Parse assuming bullet point or dash-separated format.\"\"\"\n",
    "    soup = BeautifulSoup(html, 'html.parser')\n",
    "    \n",
    "    # Get the main text content\n",
    "    text_content = soup.get_text()\n",
    "    \n",
    "    # Split by lines and look for patterns like \"- Term\" followed by definition\n",
    "    lines = [line.strip() for line in text_content.split('\\n') if line.strip()]\n",
    "    \n",
    "    entries = []\n",
    "    i = 0\n",
    "    \n",
    "    while i < len(lines):\n",
    "        line = lines[i]\n",
    "        \n",
    "        # Skip navigation content\n",
    "        if any(nav_text in line for nav_text in [\n",
    "            \"Weather Glossary:\", \"Weather Acronyms:\", \"Appendix\", \n",
    "            \"Glossary\", \"Downloads\", \"Acronyms\"\n",
    "        ]):\n",
    "            i += 1\n",
    "            continue\n",
    "        \n",
    "        # Look for lines that start with \"- \" (bullet points)\n",
    "        if line.startswith('- ') and len(line) < 150:\n",
    "            term = line[2:].strip()  # Remove \"- \" prefix\n",
    "            \n",
    "            # Collect definition from subsequent lines\n",
    "            definition_lines = []\n",
    "            i += 1\n",
    "            \n",
    "            while i < len(lines) and not lines[i].startswith('- '):\n",
    "                if lines[i].strip() and not any(nav in lines[i] for nav in [\"Weather Glossary:\", \"Weather Acronyms:\"]):\n",
    "                    definition_lines.append(lines[i].strip())\n",
    "                i += 1\n",
    "            \n",
    "            if definition_lines:\n",
    "                definition = ' '.join(definition_lines)\n",
    "                entries.append({\n",
    "                    'term': term,\n",
    "                    'definition': definition\n",
    "                })\n",
    "            \n",
    "            # Don't increment i here since we already did in the while loop\n",
    "            continue\n",
    "        \n",
    "        i += 1\n",
    "    \n",
    "    return entries\n",
    "\n",
    "# Test all three methods\n",
    "def parse_glossary_comprehensive(html):\n",
    "    \"\"\"Try multiple parsing approaches and return the best result.\"\"\"\n",
    "    \n",
    "    # Method 1: Bullet point parsing\n",
    "    result1 = parse_glossary_bullet_points(html)\n",
    "    \n",
    "    # Method 2: Structure-based parsing  \n",
    "    result2 = parse_glossary_by_structure(html)\n",
    "    \n",
    "    # Method 3: Your original method (modified)\n",
    "    soup = BeautifulSoup(html, 'html.parser')\n",
    "    result3 = []\n",
    "    \n",
    "    # Look for any dl elements\n",
    "    for dl in soup.find_all('dl'):\n",
    "        for dt in dl.find_all('dt'):\n",
    "            term = dt.get_text(strip=True)\n",
    "            if not term:\n",
    "                continue\n",
    "                \n",
    "            definition_parts = []\n",
    "            for sibling in dt.find_next_siblings():\n",
    "                if sibling.name == 'dt':\n",
    "                    break\n",
    "                if sibling.name == 'dd':\n",
    "                    definition_parts.append(sibling.get_text(strip=True))\n",
    "            \n",
    "            full_definition = \" \".join(definition_parts)\n",
    "            if full_definition:\n",
    "                result3.append({'term': term, 'definition': full_definition})\n",
    "    \n",
    "    # Return the method that found the most entries\n",
    "    results = [result1, result2, result3]\n",
    "    best_result = max(results, key=len)\n",
    "    \n",
    "    \n",
    "    return best_result"
   ]
  },
  {
   "cell_type": "code",
   "execution_count": null,
   "id": "bbe7c657",
   "metadata": {},
   "outputs": [],
   "source": [
    "\n",
    "all_letters = {}\n",
    "for letter in string.ascii_lowercase:\n",
    "    url = f'https://www.noaa.gov/jetstream/appendix/weather-glossary-{letter}'\n",
    "    try:\n",
    "        html = fetch_html(url)\n",
    "        glossary = parse_glossary_comprehensive(html)\n",
    "        if glossary:\n",
    "            all_letters[letter] = glossary\n",
    "        else:\n",
    "            print(f\"Warning: no entries found for '{letter}'\")\n",
    "    except requests.HTTPError as e:\n",
    "        print(f\"HTTP error for {url}: {e}\")\n",
    "    except Exception as e:\n",
    "        print(f\"Error processing {letter}: {e}\")"
   ]
  },
  {
   "cell_type": "code",
   "execution_count": null,
   "id": "f744a8e3",
   "metadata": {},
   "outputs": [],
   "source": [
    "output_path = 'noaa_glossary1.json'\n",
    "with open(output_path, 'w', encoding='utf-8') as f:\n",
    "    json.dump(all_letters, f, ensure_ascii=False, indent=2)"
   ]
  },
  {
   "cell_type": "markdown",
   "id": "a90542c0",
   "metadata": {},
   "source": [
    "## On Jupyterhub (without downloading LLM)"
   ]
  },
  {
   "cell_type": "markdown",
   "id": "30a5e65d",
   "metadata": {},
   "source": [
    "### 🔑 Setting Up API Tokens\n",
    "\n",
    "Before working with LLMs, you'll need to obtain API tokens from key services (it's FREE):\n",
    "\n",
    "#### Hugging Face Token\n",
    "1. Visit [huggingface.co](https://huggingface.co) and create an account\n",
    "2. Go to **Settings** → **Access Tokens**\n",
    "3. Click **\"New token\"** → Choose **\"Read\"** access\n",
    "4. Copy the token (starts with `hf_...`)\n",
    "\n",
    "#### LangSmith API Key (Optional - for debugging)\n",
    "1. Visit [smith.langchain.com](https://smith.langchain.com)\n",
    "2. Sign up with GitHub/Google\n",
    "3. Go to **Settings** → **API Keys**\n",
    "4. Click **\"Create API Key\"**\n",
    "5. Copy the key (starts with `ls__...`)\n",
    "\n",
    "#### Create a .env file\n",
    "\n",
    "Create a `.env` file in your project directory with your tokens:\n",
    "\n",
    "```bash\n",
    "HF_TOKEN=hf_your_token_here\n",
    "LANGCHAIN_API_KEY=ls__your_key_here\n",
    "LANGCHAIN_TRACING_V2=true\n",
    "LANGCHAIN_ENDPOINT='https://api.smith.langchain.com'\n",
    "```"
   ]
  },
  {
   "cell_type": "code",
   "execution_count": 2,
   "id": "b827033a",
   "metadata": {},
   "outputs": [],
   "source": [
    "from langchain_openai import ChatOpenAI\n",
    "from langchain_core.output_parsers import StrOutputParser"
   ]
  },
  {
   "cell_type": "code",
   "execution_count": 3,
   "id": "720cafb6",
   "metadata": {},
   "outputs": [],
   "source": [
    "HF_TOKEN = os.environ[\"HF_TOKEN\"]\n",
    "\n",
    "# Initialize the LLM with correct model format for Hugging Face router\n",
    "llm = ChatOpenAI(\n",
    "    base_url=\"https://router.huggingface.co/v1\",\n",
    "    api_key=HF_TOKEN,\n",
    "    model=\"openai/gpt-oss-20b:fireworks-ai\"  \n",
    ")\n",
    "\n",
    "# Create the prompt template\n",
    "prompt = ChatPromptTemplate.from_messages([\n",
    "    (\"system\", \"You are an AI assistant.\"),\n",
    "    (\"human\", \"{question}\")\n",
    "])\n",
    "\n",
    "# Create the chain with output parser\n",
    "chain_no_context = prompt | llm | StrOutputParser()"
   ]
  },
  {
   "cell_type": "code",
   "execution_count": 8,
   "id": "c5756746",
   "metadata": {},
   "outputs": [
    {
     "name": "stdout",
     "output_type": "stream",
     "text": [
      "Hello there! 👋 How can I help you today?\n"
     ]
    }
   ],
   "source": [
    "# Invoke the chain\n",
    "response = chain_no_context.invoke({\"question\": \"Hello there\"})\n",
    "print(response)"
   ]
  },
  {
   "cell_type": "markdown",
   "id": "8193c580",
   "metadata": {},
   "source": [
    "### Creating RAG"
   ]
  },
  {
   "cell_type": "code",
   "execution_count": 9,
   "id": "e2fad18b",
   "metadata": {},
   "outputs": [],
   "source": [
    "with open(\"noaa_glossary1.json\", \"r\", encoding=\"utf-8\") as f:\n",
    "    data = json.load(f)\n",
    "docs = []\n",
    "for letter, entries in data.items():\n",
    "    for entry in entries:\n",
    "        # use the definition as the content, and keep the term (and letter) as metadata\n",
    "        docs.append(\n",
    "            Document(\n",
    "                page_content=entry[\"term\"] + entry[\"definition\"],\n",
    "                metadata={\"term\": entry[\"term\"], \"letter\": letter}\n",
    "            )\n",
    "        )"
   ]
  },
  {
   "cell_type": "code",
   "execution_count": 10,
   "id": "f600fb14",
   "metadata": {},
   "outputs": [],
   "source": [
    "docs_cut = docs[1::3]"
   ]
  },
  {
   "cell_type": "code",
   "execution_count": 12,
   "id": "9be43226",
   "metadata": {},
   "outputs": [
    {
     "name": "stderr",
     "output_type": "stream",
     "text": [
      "/Users/boshap001/Desktop/OHW/llm_tutorial/.venv/lib/python3.12/site-packages/tqdm/auto.py:21: TqdmWarning: IProgress not found. Please update jupyter and ipywidgets. See https://ipywidgets.readthedocs.io/en/stable/user_install.html\n",
      "  from .autonotebook import tqdm as notebook_tqdm\n"
     ]
    }
   ],
   "source": [
    "from langchain_huggingface import HuggingFaceEndpointEmbeddings\n",
    "doc_embedder = HuggingFaceEndpointEmbeddings(\n",
    "    model=\"Qwen/Qwen3-Embedding-8B\",\n",
    "    task=\"feature-extraction\",\n",
    "    model_kwargs={\"normalize\": True},\n",
    ")"
   ]
  },
  {
   "cell_type": "code",
   "execution_count": 14,
   "id": "855d768d",
   "metadata": {},
   "outputs": [],
   "source": [
    "vector_store_hf = Chroma.from_documents(docs_cut, doc_embedder)\n",
    "prompt = ChatPromptTemplate.from_messages([\n",
    "    (\"system\", \"You are an AI assistant that answers users’ questions by consulting the NOAA weather glossary as your primary reference. \"),\n",
    "    (\"human\", \"{question}\")\n",
    "])\n",
    "retriever = vector_store_hf.as_retriever()\n",
    "chain_context = ConversationalRetrievalChain.from_llm(\n",
    "    llm=llm,\n",
    "    retriever=retriever,\n",
    "    condense_question_prompt=prompt\n",
    ")\n"
   ]
  },
  {
   "cell_type": "code",
   "execution_count": 15,
   "id": "8ba47110",
   "metadata": {},
   "outputs": [
    {
     "name": "stderr",
     "output_type": "stream",
     "text": [
      "/var/folders/2b/3dz067pn2llgrd0wxy4wh0cr9cdqw0/T/ipykernel_18867/3246132003.py:1: LangChainDeprecationWarning: The method `Chain.__call__` was deprecated in langchain 0.1.0 and will be removed in 1.0. Use :meth:`~invoke` instead.\n",
      "  result = chain_context({\"question\":  \"What is Stratus?\",\"chat_history\": []})\n"
     ]
    },
    {
     "name": "stdout",
     "output_type": "stream",
     "text": [
      "{'question': 'What is Stratus?', 'chat_history': [], 'answer': '**Stratus** is a type of low‑level cloud that forms a broad, uniform sheet covering the sky. It usually lies between the ground and about 6,500\\u202ffeet (≈2\\u202fkm) and is composed mainly of water vapor. Stratus clouds can appear as neat, featureless layers or with ragged patches, but they do not show the distinct, puffy elements seen in cumulus or stratocumulus clouds. When the cloud base touches the ground, the same cloud type is called a **fog**.'}\n"
     ]
    }
   ],
   "source": [
    "result = chain_context({\"question\":  \"What is Stratus?\",\"chat_history\": []})\n",
    "print(result)"
   ]
  },
  {
   "cell_type": "code",
   "execution_count": 16,
   "id": "66c3457e",
   "metadata": {},
   "outputs": [
    {
     "name": "stdout",
     "output_type": "stream",
     "text": [
      "**Stratus** can refer to several different things depending on the context. Below are the most common uses:\n",
      "\n",
      "| Context | What it is | Key facts |\n",
      "|---------|------------|-----------|\n",
      "| **Meteorology** | *Stratus cloud* | A low‑level cloud layer that covers most or all of the sky, often producing mist or drizzle. It is typically flat and wide, unlike cumulus clouds. |\n",
      "| **Cloud computing** | *Stratus* (e.g., IBM’s Stratus, Stratus Digital, Stratus Networks) | Commercial cloud‑storage or software‑as‑a‑service platforms that offer storage, compute, and analytics. IBM’s Stratus, for example, focused on high‑performance data‑processing workloads. |\n",
      "| **Technology companies** | *Stratus Technology Group* | A U.S. company that develops and sells products for distributed computing, virtualization, and data center services. |\n",
      "| **Software** | *Stratus* analytic/visualization tools | Open‑source or commercial software for 3D modeling, GIS, or data analysis (e.g., Stratus 3D). |\n",
      "| **Other** | *Stratus* in branding | Several smaller firms, product lines, or services named “Stratus” (e.g., Stratus Energy, Stratus Analytics). |\n",
      "\n",
      "### Quick Answers\n",
      "\n",
      "* **If you’re asking about the cloud** (the weather kind): Stratus is a type of low‑level cloud that forms in a continuous layer, giving the sky a gray, overcast appearance.\n",
      "\n",
      "* **If you’re in tech and referring to a service**: Stratus is the brand used by several cloud‑storage or high‑performance computing platforms (e.g., IBM’s Stratus). It generally offers scalable storage, compute resources, and sometimes analytics tools.\n",
      "\n",
      "* **If you mean a company**: Stratus Technology Group is a U.S. firm that specializes in software for virtualization, cloud, and data‑center technologies.\n",
      "\n",
      "---\n",
      "\n",
      "#### Quick Summary\n",
      "\n",
      "- **Meteorology:** flat, low‑level cloud covering the sky.  \n",
      "- **Tech/Cloud:** brand name for storage/compute services or companies.  \n",
      "- **Software/Tools:** 3D or analytic applications named Stratus.  \n",
      "\n",
      "If you have a specific “Stratus” in mind (e.g., a product name, company, or scientific term), let me know and I can dive deeper into that particular context.\n"
     ]
    }
   ],
   "source": [
    "response = chain_no_context.invoke({\"question\": \"What is Stratus?\"})\n",
    "print(response)"
   ]
  },
  {
   "cell_type": "markdown",
   "id": "9c5c82b7",
   "metadata": {},
   "source": [
    "## On your Computer/Laptop (downloading LLM)"
   ]
  },
  {
   "cell_type": "code",
   "execution_count": 14,
   "id": "d3e730b0",
   "metadata": {},
   "outputs": [
    {
     "name": "stdout",
     "output_type": "stream",
     "text": [
      "Total RAM: 18.00 GB\n"
     ]
    }
   ],
   "source": [
    "import os\n",
    "print(f\"Total RAM: {os.sysconf('SC_PAGE_SIZE') * os.sysconf('SC_PHYS_PAGES') / (1024 ** 3):.2f} GB\")"
   ]
  },
  {
   "cell_type": "markdown",
   "id": "07f24378",
   "metadata": {},
   "source": [
    "### Memory Requirements:\n",
    "Required RAM ≈ Model Parameters × 2 bytes (for 16-bit) + 2-4GB overhead"
   ]
  },
  {
   "cell_type": "code",
   "execution_count": 16,
   "id": "73ac8fcf",
   "metadata": {},
   "outputs": [
    {
     "name": "stdout",
     "output_type": "stream",
     "text": [
      "Model Parameters (B)\tRequired RAM (GB, 2GB overhead)\tRequired RAM (GB, 4GB overhead)\n",
      "1\t\t\t3.86\t\t\t5.86\n",
      "4\t\t\t9.45\t\t\t11.45\n",
      "7\t\t\t15.04\t\t\t17.04\n",
      "27\t\t\t52.29\t\t\t54.29\n",
      "32\t\t\t61.60\t\t\t63.60\n",
      "70\t\t\t132.39\t\t\t134.39\n",
      "671\t\t\t1251.83\t\t\t1253.83\n"
     ]
    }
   ],
   "source": [
    "def calculate_required_ram(model_params, overhead_gb=2):\n",
    "    \"\"\"\n",
    "    Calculate required RAM for a model.\n",
    "    Args:\n",
    "        model_params (int): Number of model parameters (in billions).\n",
    "        overhead_gb (int): Overhead in GB (default 2GB).\n",
    "    Returns:\n",
    "        float: Required RAM in GB.\n",
    "    \"\"\"\n",
    "    # Convert model_params from billions to actual number\n",
    "    params = model_params * 1_000_000_000\n",
    "    ram_bytes = params * 2\n",
    "    ram_gb = ram_bytes / (1024 ** 3)\n",
    "    total_ram_gb = ram_gb + overhead_gb\n",
    "    return total_ram_gb\n",
    "\n",
    "# List of model parameters in billions\n",
    "model_params_list = [1, 4, 7, 27, 32, 70, 671]\n",
    "\n",
    "print(\"Model Parameters (B)\", \"Required RAM (GB, 2GB overhead)\", \"Required RAM (GB, 4GB overhead)\", sep=\"\\t\")\n",
    "for params in model_params_list:\n",
    "    ram_2gb = calculate_required_ram(params, overhead_gb=2)\n",
    "    ram_4gb = calculate_required_ram(params, overhead_gb=4)\n",
    "    print(f\"{params}\\t\\t\\t{ram_2gb:.2f}\\t\\t\\t{ram_4gb:.2f}\")"
   ]
  },
  {
   "cell_type": "markdown",
   "id": "a129e8e5",
   "metadata": {},
   "source": [
    "<img src=\"./llm_arena.png\" alt=\"drawing\" width=\"1200\"/>"
   ]
  },
  {
   "cell_type": "markdown",
   "id": "898ef1e4",
   "metadata": {},
   "source": [
    "### Install LLM on your laptop (not on JupyterHub)\n",
    "\n",
    "Follow these steps in your terminal:\n",
    "\n",
    "**Install Ollama on your Mac:**\n",
    "   ```bash\n",
    "   brew install ollama\n",
    "   ```\n",
    "**Install Ollama on Windows**  \n",
    "Download the installer from the [Ollama website](https://ollama.com/)\n",
    "\n",
    "\n",
    "**Run the model (if you have a GPU):**\n",
    "   ```bash\n",
    "   ollama run gemma3:4b\n",
    "   ```\n",
    "\n",
    "**Run the model (if you don't have a GPU):**\n",
    "   ```bash\n",
    "   ollama run gemma3n:e4b\n",
    "   ```\n",
    "**embedding model:**\n",
    "```bash\n",
    "ollama pull nomic-embed-text:v1.5\n",
    "```\n",
    "   "
   ]
  },
  {
   "cell_type": "code",
   "execution_count": null,
   "id": "6dc10732",
   "metadata": {},
   "outputs": [],
   "source": [
    "from langchain_ollama import OllamaLLM\n",
    "# Initialize the LLM with the model you pulled via Ollama\n",
    "llm = OllamaLLM(model=\"gemma3:4b\")"
   ]
  },
  {
   "cell_type": "code",
   "execution_count": 5,
   "id": "b48271a0",
   "metadata": {},
   "outputs": [],
   "source": [
    "from langchain_ollama import OllamaEmbeddings\n",
    "embeddings = OllamaEmbeddings(model=\"nomic-embed-text:v1.5\") "
   ]
  },
  {
   "cell_type": "code",
   "execution_count": 27,
   "id": "7b4fa4c0",
   "metadata": {},
   "outputs": [],
   "source": [
    "prompt = ChatPromptTemplate.from_messages([\n",
    "    (\"system\", \"You are an AI assistant.\"),\n",
    "    (\"human\", \"{question}\")\n",
    "])\n",
    "\n",
    "chain_no_context = prompt | llm"
   ]
  },
  {
   "cell_type": "code",
   "execution_count": 28,
   "id": "7a47c412",
   "metadata": {},
   "outputs": [
    {
     "name": "stdout",
     "output_type": "stream",
     "text": [
      "Hello! How can I help you today?\n",
      "\n"
     ]
    }
   ],
   "source": [
    "response = chain_no_context.invoke({\"question\": \"Hello there\"})\n",
    "print(response)"
   ]
  },
  {
   "cell_type": "markdown",
   "id": "8258e63d",
   "metadata": {},
   "source": [
    "### Creating RAG"
   ]
  },
  {
   "cell_type": "code",
   "execution_count": 3,
   "id": "b8d201e1",
   "metadata": {},
   "outputs": [],
   "source": [
    "with open(\"noaa_glossary1.json\", \"r\", encoding=\"utf-8\") as f:\n",
    "    data = json.load(f)\n",
    "docs = []\n",
    "for letter, entries in data.items():\n",
    "    for entry in entries:\n",
    "        # use the definition as the content, and keep the term (and letter) as metadata\n",
    "        docs.append(\n",
    "            Document(\n",
    "                page_content=entry[\"term\"] + entry[\"definition\"],\n",
    "                metadata={\"term\": entry[\"term\"], \"letter\": letter}\n",
    "            )\n",
    "        )\n"
   ]
  },
  {
   "cell_type": "code",
   "execution_count": 7,
   "id": "cb7a060a",
   "metadata": {},
   "outputs": [],
   "source": [
    "# Embed & index\n",
    "vector_store = Chroma.from_documents(docs, embeddings)"
   ]
  },
  {
   "cell_type": "code",
   "execution_count": 33,
   "id": "2244be31",
   "metadata": {},
   "outputs": [],
   "source": [
    "prompt = ChatPromptTemplate.from_messages([\n",
    "    (\"system\", \"You are an AI assistant that answers users’ questions by consulting the NOAA weather glossary as your primary reference. \"),\n",
    "    (\"human\", \"{question}\")\n",
    "])\n",
    "retriever = vector_store.as_retriever(search_kwargs={\"k\": 1})\n",
    "chain = ConversationalRetrievalChain.from_llm(\n",
    "    llm=llm,\n",
    "    retriever=retriever,\n",
    "    condense_question_prompt=prompt\n",
    ")"
   ]
  },
  {
   "cell_type": "code",
   "execution_count": 34,
   "id": "62f409f6",
   "metadata": {},
   "outputs": [
    {
     "name": "stdout",
     "output_type": "stream",
     "text": [
      "{'question': 'What is Stratus?', 'chat_history': [], 'answer': 'Stratus is a low, uniform sheet-like cloud.\\n'}\n"
     ]
    }
   ],
   "source": [
    "result = chain({\"question\":  \"What is Stratus?\",\"chat_history\": []})\n",
    "print(result)"
   ]
  },
  {
   "cell_type": "code",
   "execution_count": 35,
   "id": "d227b375",
   "metadata": {},
   "outputs": [
    {
     "name": "stdout",
     "output_type": "stream",
     "text": [
      "That's a great question! Stratus is a weather phenomenon that occurs when the sky becomes unusually thick and heavy, often with a thin layer of clouds. It's a sign that the weather is approaching a potentially sunny day.\n",
      "\n"
     ]
    }
   ],
   "source": [
    "response = chain_no_context.invoke({\"question\": \"What is Stratus?\"})\n",
    "print(response)"
   ]
  },
  {
   "cell_type": "markdown",
   "id": "7f4603eb",
   "metadata": {},
   "source": [
    "## Tools and Agents"
   ]
  },
  {
   "cell_type": "markdown",
   "id": "975925f8",
   "metadata": {},
   "source": [
    "<img src=\"./agent_pic.png\" alt=\"drawing\" width=\"600\"/>\n"
   ]
  },
  {
   "cell_type": "code",
   "execution_count": 4,
   "id": "9d9d4236",
   "metadata": {},
   "outputs": [],
   "source": [
    "from langchain_core.tools import Tool\n",
    "from langchain_experimental.utilities import PythonREPL\n",
    "import xarray as xr"
   ]
  },
  {
   "cell_type": "code",
   "execution_count": 17,
   "id": "6ccb39f2",
   "metadata": {},
   "outputs": [],
   "source": [
    "openai_llm = ChatOpenAI(model=\"gpt-4.1-mini\", temperature=0) # - optional "
   ]
  },
  {
   "cell_type": "markdown",
   "id": "8a49ecb9",
   "metadata": {},
   "source": [
    "#### ERA5 retrieving tool"
   ]
  },
  {
   "cell_type": "code",
   "execution_count": 6,
   "id": "1a5b38fc",
   "metadata": {},
   "outputs": [],
   "source": [
    "\n",
    "def extract_era5_data(\n",
    "    variable: str,\n",
    "    time_start: str,\n",
    "    time_end: str,\n",
    "    level: int = None,\n",
    "    lat_min: float = -90,\n",
    "    lat_max: float = 90,\n",
    "    lon_min: float = 0,\n",
    "    lon_max: float = 360,\n",
    "    zarr_url: str = \"gs://gcp-public-data-arco-era5/ar/full_37-1h-0p25deg-chunk-1.zarr-v3\"\n",
    "):\n",
    "    \"\"\"\n",
    "    Extract ERA5 data from the ARCO Zarr store.\n",
    "    Args:\n",
    "        variable: Variable name (\"sea_surface_temperature\", \"surface_pressure\", \"total_cloud_cover\", \"total_precipitation\",\n",
    "                                \"10m_u_component_of_wind\", \"10m_v_component_of_wind\", \"2m_temperature\", \"2m_dewpoint_temperature\",\n",
    "                                \"geopotential\", \"specific_humidity\", \"temperature\", \"u_component_of_wind\",\n",
    "                                \"v_component_of_wind\", \"vertical_velocity\")\n",
    "        time_start: Start time (e.g., '2000-01-01T00:00:00')\n",
    "        time_end: End time (e.g., '2000-01-02T00:00:00')\n",
    "        level: Pressure level (optional, e.g., 500)\n",
    "        lat_min, lat_max: Latitude bounds\n",
    "        lon_min, lon_max: Longitude bounds\n",
    "        zarr_url: Zarr store URL\n",
    "    Returns:\n",
    "        xarray.DataArray with the selected data\n",
    "    \"\"\"\n",
    "    ds = xr.open_zarr(zarr_url, storage_options={\"token\": \"anon\"})\n",
    "    sel = ds[variable].sel(\n",
    "        time=slice(time_start, time_end),\n",
    "        latitude=slice(lat_max, lat_min),  # ERA5 is north-to-south\n",
    "        longitude=slice(lon_min, lon_max)\n",
    "    )\n",
    "    if level is not None and \"level\" in sel.dims:\n",
    "        sel = sel.sel(level=level)\n",
    "    filename = f\"./tmp/{variable}_{time_start}_{time_end}_{lat_min}_{lat_max}_{lon_min}_{lon_max}.nc\"\n",
    "    print_message = f'filename to use: {filename}'\n",
    "    sel.to_netcdf(filename)\n",
    "    return sel, print_message"
   ]
  },
  {
   "cell_type": "code",
   "execution_count": 7,
   "id": "50d6f8f2",
   "metadata": {},
   "outputs": [],
   "source": [
    "from typing import Optional, Literal\n",
    "from pydantic import BaseModel, Field, conint, confloat\n",
    "from langchain_core.tools import StructuredTool\n",
    "\n",
    "# 1. Define the Pydantic schema for structured args, with variable restricted to allowed values\n",
    "class ERA5Params(BaseModel):\n",
    "    variable: Literal[\n",
    "        \"sea_surface_temperature\",\n",
    "        \"surface_pressure\",\n",
    "        \"total_cloud_cover\",\n",
    "        \"total_precipitation\",\n",
    "        \"10m_u_component_of_wind\",\n",
    "        \"10m_v_component_of_wind\",\n",
    "        \"2m_temperature\",\n",
    "        \"2m_dewpoint_temperature\",\n",
    "        \"geopotential\",\n",
    "        \"specific_humidity\",\n",
    "        \"temperature\",\n",
    "        \"u_component_of_wind\",\n",
    "        \"v_component_of_wind\",\n",
    "        \"vertical_velocity\"\n",
    "    ] = Field(\n",
    "        ...,\n",
    "        description=(\n",
    "            \"ERA5 variable to extract; one of \"\n",
    "            \"'sea_surface_temperature', 'surface_pressure', 'total_cloud_cover', \"\n",
    "            \"'total_precipitation', '10m_u_component_of_wind', '10m_v_component_of_wind', \"\n",
    "            \"'2m_temperature', '2m_dewpoint_temperature', 'geopotential', \"\n",
    "            \"'specific_humidity', 'temperature', 'u_component_of_wind', \"\n",
    "            \"'v_component_of_wind', 'vertical_velocity'\"\n",
    "        )\n",
    "    )\n",
    "    time_start: str = Field(\n",
    "        ..., description=\"ISO timestamp, e.g. '2000-01-01T00:00:00'\"\n",
    "    )\n",
    "    time_end: str = Field(\n",
    "        ..., description=\"ISO timestamp, e.g. '2000-01-02T00:00:00'\"\n",
    "    )\n",
    "    level: Optional[conint(strict=True)] = Field(\n",
    "        None, description=\"Pressure level in hPa, e.g. 500\"\n",
    "    )\n",
    "    lat_min: confloat(ge=-90, le=90) = Field(\n",
    "        ..., description=\"Southern latitude bound, between -90 and 90\"\n",
    "    )\n",
    "    lat_max: confloat(ge=-90, le=90) = Field(\n",
    "        ..., description=\"Northern latitude bound, between -90 and 90\"\n",
    "    )\n",
    "    lon_min: confloat(ge=0, le=360) = Field(\n",
    "        ..., description=\"Western longitude bound, between 0 and 360\"\n",
    "    )\n",
    "    lon_max: confloat(ge=0, le=360) = Field(\n",
    "        ..., description=\"Eastern longitude bound, between 0 and 360\"\n",
    "    )\n",
    "\n",
    "# 2. Wrap the existing extract_era5_data function into a structured LangChain Tool\n",
    "era5_tool = StructuredTool.from_function(\n",
    "    extract_era5_data,\n",
    "    name=\"era5_data_extractor\",\n",
    "    description=(\n",
    "        \"Extract ERA5 reanalysis data from the ARCO Zarr store. \"\n",
    "        \"Requires variable, time_start, time_end, optional level, and lat/lon bounds., lat from -90 to 90, lon from 0 to 360\"\n",
    "    ),\n",
    "    args_schema=ERA5Params,\n",
    ")"
   ]
  },
  {
   "cell_type": "markdown",
   "id": "b9f618fc",
   "metadata": {},
   "source": [
    "#### Python repl tool"
   ]
  },
  {
   "cell_type": "code",
   "execution_count": 8,
   "id": "431e236b",
   "metadata": {},
   "outputs": [],
   "source": [
    "python_repl = PythonREPL()\n",
    "\n",
    "repl_tool = Tool(\n",
    "    name=\"python_repl\",\n",
    "    description=(\n",
    "        \"A Python REPL. Use to execute matplotlib code for plotting. \"\n",
    "        \"Input must be valid Python; use print(...) or plt.show() to display output.\"\n",
    "        \"Do NOT mock the data. Use filename from era5_tool to open netcdf file\"\n",
    "        \"Use cmocean for colormaps\"\n",
    "        \"Use cartopy for continents if needed\"\n",
    "    ),\n",
    "    func=python_repl.run,\n",
    ")\n",
    "# agent_executor = create_react_agent(llm,[repl_tool, era5_tool])"
   ]
  },
  {
   "cell_type": "code",
   "execution_count": null,
   "id": "87a11c05",
   "metadata": {},
   "outputs": [],
   "source": [
    "from langchain.agents import AgentExecutor, create_tool_calling_agent\n",
    "from langchain.prompts import MessagesPlaceholder\n",
    "\n",
    "# Use your existing tools\n",
    "tools = [repl_tool, era5_tool]\n",
    "\n",
    "# Create the LLM\n",
    "\n",
    "# System & user prompt for the agent\n",
    "prompt = ChatPromptTemplate.from_messages(\n",
    "    [\n",
    "        (\"system\", \"You are an expert in ERA5 data analysis that can use era5_tool to download the data and repl_tool to perform plots\"),\n",
    "        (\"user\", \"{input}\"),\n",
    "        MessagesPlaceholder(variable_name=\"agent_scratchpad\"),\n",
    "    ]\n",
    ")\n",
    "llm = ChatOpenAI(\n",
    "    base_url=\"https://router.huggingface.co/v1\",\n",
    "    api_key=HF_TOKEN,\n",
    "    model=\"openai/gpt-oss-120b:fireworks-ai\"  \n",
    ")\n",
    "\n"
   ]
  },
  {
   "cell_type": "code",
   "execution_count": 10,
   "id": "5c69824d",
   "metadata": {},
   "outputs": [],
   "source": [
    "# Define the agent\n",
    "agent = create_tool_calling_agent(\n",
    "    llm=llm,\n",
    "    tools=tools,\n",
    "    prompt=prompt,\n",
    ")\n",
    "\n",
    "# Create the executor\n",
    "agent_executor = AgentExecutor(agent=agent, tools=tools, verbose=True)"
   ]
  },
  {
   "cell_type": "code",
   "execution_count": 13,
   "id": "88d4bcda",
   "metadata": {},
   "outputs": [
    {
     "name": "stdout",
     "output_type": "stream",
     "text": [
      "\n",
      "\n",
      "\u001b[1m> Entering new AgentExecutor chain...\u001b[0m\n",
      "\u001b[32;1m\u001b[1;3m\n",
      "Invoking: `era5_data_extractor` with `{'variable': 'sea_surface_temperature', 'time_start': '2015-12-24T00:00:00', 'time_end': '2015-12-25T00:00:00', 'lat_min': -40, 'lat_max': 70, 'lon_min': 280, 'lon_max': 360}`\n",
      "\n",
      "\n",
      "\u001b[0m\u001b[33;1m\u001b[1;3m(<xarray.DataArray 'sea_surface_temperature' (time: 25, latitude: 441,\n",
      "                                             longitude: 320)> Size: 14MB\n",
      "dask.array<getitem, shape=(25, 441, 320), dtype=float32, chunksize=(1, 441, 320), chunktype=numpy.ndarray>\n",
      "Coordinates:\n",
      "  * latitude   (latitude) float32 2kB 70.0 69.75 69.5 ... -39.5 -39.75 -40.0\n",
      "  * longitude  (longitude) float32 1kB 280.0 280.2 280.5 ... 359.2 359.5 359.8\n",
      "  * time       (time) datetime64[ns] 200B 2015-12-24 ... 2015-12-25\n",
      "Attributes:\n",
      "    long_name:   Sea surface temperature\n",
      "    short_name:  sst\n",
      "    units:       K, 'filename to use: ./tmp/sea_surface_temperature_2015-12-24T00:00:00_2015-12-25T00:00:00_-40.0_70.0_280.0_360.0.nc')\u001b[0m"
     ]
    },
    {
     "data": {
      "image/png": "[encoded data removed]",
      "text/plain": [
       "<Figure size 1000x600 with 2 Axes>"
      ]
     },
     "metadata": {},
     "output_type": "display_data"
    },
    {
     "name": "stdout",
     "output_type": "stream",
     "text": [
      "\u001b[32;1m\u001b[1;3m\n",
      "Invoking: `python_repl` with `import xarray as xr, matplotlib.pyplot as plt, cartopy.crs as ccrs, cartopy.feature as cfeature, cmocean\n",
      "\n",
      "filename = './tmp/sea_surface_temperature_2015-12-24T00:00:00_2015-12-25T00:00:00_-40.0_70.0_280.0_360.0.nc'\n",
      "\n",
      "ds = xr.open_dataset(filename)\n",
      "# DataArray sea_surface_temperature\n",
      "ds_sst = ds['sea_surface_temperature']\n",
      "# Select first time (00:00 UTC of 24 Dec)\n",
      "sst0 = ds_sst.isel(time=0)\n",
      "\n",
      "# Convert Kelvin to Celsius for readability\n",
      "sst_c = sst0 - 273.15\n",
      "\n",
      "proj = ccrs.PlateCarree()\n",
      "fig, ax = plt.subplots(figsize=(10,6), subplot_kw={'projection': proj})\n",
      "ax.set_extent([280, 360, -40, 70], crs=proj)\n",
      "# Add coastlines and land\n",
      "ax.coastlines(resolution='110m')\n",
      "ax.add_feature(cfeature.LAND, zorder=0, facecolor='lightgray')\n",
      "# Plot SST\n",
      "c = ax.pcolormesh(sst_c['longitude'], sst_c['latitude'], sst_c,\n",
      "                  transform=proj, cmap=cmocean.cm.thermal, shading='auto')\n",
      "cb = fig.colorbar(c, ax=ax, orientation='vertical', label='SST (°C)')\n",
      "ax.set_title('Sea Surface Temperature (C) on 24 Dec 2015')\n",
      "plt.show()`\n",
      "\n",
      "\n",
      "\u001b[0m\u001b[36;1m\u001b[1;3m\u001b[0m\u001b[32;1m\u001b[1;3mHere is the sea‑surface‑temperature map for the Atlantic region on 24 December 2015 (00 UTC). The plot shows SST in degrees Celsius, using the `cmocean` “thermal” colormap, with coastlines and land highlighted.\u001b[0m\n",
      "\n",
      "\u001b[1m> Finished chain.\u001b[0m\n"
     ]
    }
   ],
   "source": [
    "result = agent_executor.invoke({\"input\": \"Plot sst in Atlantic on December 24 2015\"})"
   ]
  },
  {
   "cell_type": "code",
   "execution_count": null,
   "id": "07e78d06",
   "metadata": {},
   "outputs": [],
   "source": []
  }
 ],
 "metadata": {
  "kernelspec": {
   "display_name": ".venv",
   "language": "python",
   "name": "python3"
  },
  "language_info": {
   "codemirror_mode": {
    "name": "ipython",
    "version": 3
   },
   "file_extension": ".py",
   "mimetype": "text/x-python",
   "name": "python",
   "nbconvert_exporter": "python",
   "pygments_lexer": "ipython3",
   "version": "3.12.4"
  }
 },
 "nbformat": 4,
 "nbformat_minor": 5
}
